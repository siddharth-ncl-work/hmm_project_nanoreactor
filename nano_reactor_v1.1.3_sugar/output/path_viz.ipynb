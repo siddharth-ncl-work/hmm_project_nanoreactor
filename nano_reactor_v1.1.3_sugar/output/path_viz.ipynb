{
 "cells": [
  {
   "cell_type": "code",
   "execution_count": 3,
   "metadata": {},
   "outputs": [
    {
     "data": {
      "text/plain": [
       "'nhchoh_path_adjlist.png'"
      ]
     },
     "execution_count": 3,
     "metadata": {},
     "output_type": "execute_result"
    }
   ],
   "source": [
    "import networkx as nx\n",
    "import graphviz\n",
    "from networkx.drawing.nx_agraph import to_agraph,graphviz_layout\n",
    "\n",
    "G=nx.read_adjlist(\"test.adjlist\",create_using=nx.DiGraph())\n",
    "aG=to_agraph(G)\n",
    "U=graphviz.Source(aG,filename='nhchoh_path_adjlist',format='png')\n",
    "U.render()"
   ]
  },
  {
   "cell_type": "code",
   "execution_count": 12,
   "metadata": {
    "scrolled": false
   },
   "outputs": [
    {
     "ename": "SyntaxError",
     "evalue": "invalid syntax (<ipython-input-12-168aaf0637fd>, line 2)",
     "output_type": "error",
     "traceback": [
      "\u001b[0;36m  File \u001b[0;32m\"<ipython-input-12-168aaf0637fd>\"\u001b[0;36m, line \u001b[0;32m2\u001b[0m\n\u001b[0;31m    http://localhost:8889/files/path_hcho_19_04_2018_without_filter_v1.0.5.pngimport graphviz\u001b[0m\n\u001b[0m        ^\u001b[0m\n\u001b[0;31mSyntaxError\u001b[0m\u001b[0;31m:\u001b[0m invalid syntax\n"
     ]
    }
   ],
   "source": [
    "import networkx as nx\n",
    "http://localhost:8889/files/path_hcho_19_04_2018_without_filter_v1.0.5.pngimport graphviz\n",
    "from networkx.drawing.nx_agraph import to_agraph,graphviz_layout\n",
    "\n",
    "G=nx.read_adjlist(\"test_v1.0.3.adjlist\",create_using=nx.DiGraph())\n",
    "aG=to_agraph(G)\n",
    "U=graphviz.Source(aG,filename='hcho_path1',format='png')\n",
    "U.render()"
   ]
  },
  {
   "cell_type": "code",
   "execution_count": 8,
   "metadata": {},
   "outputs": [
    {
     "data": {
      "text/plain": [
       "'REMOVE_TEST_path_nhchoh_02_06_2018_without_filter_v1.0.6b.png'"
      ]
     },
     "execution_count": 8,
     "metadata": {},
     "output_type": "execute_result"
    }
   ],
   "source": [
    "import networkx as nx\n",
    "import graphviz\n",
    "from networkx.drawing.nx_agraph import to_agraph,graphviz_layout\n",
    "\n",
    "G=nx.read_gexf(\"previous_results_18_6_18/REMOVE_TEST_path_nhchoh_02_06_2018_without_filter_v1.0.6b.gexf\")\n",
    "aG=to_agraph(G)\n",
    "U=graphviz.Source(aG,filename='REMOVE_TEST_path_nhchoh_02_06_2018_without_filter_v1.0.6b',format='png')\n",
    "U.render(cleanup=True)"
   ]
  },
  {
   "cell_type": "code",
   "execution_count": 4,
   "metadata": {},
   "outputs": [
    {
     "data": {
      "text/plain": [
       "'hcho_path_7_4_18_filtered.png'"
      ]
     },
     "execution_count": 4,
     "metadata": {},
     "output_type": "execute_result"
    }
   ],
   "source": [
    "import networkx as nx\n",
    "import graphviz\n",
    "from networkx.drawing.nx_agraph import to_agraph,graphviz_layout\n",
    "\n",
    "G=nx.read_gexf(\"test_v1.0.4_hcho_7_4_18.gexf\")\n",
    "aG=to_agraph(G)\n",
    "U=graphviz.Source(aG,filename='hcho_path_7_4_18_filtered',format='png')\n",
    "U.render()"
   ]
  },
  {
   "cell_type": "code",
   "execution_count": 11,
   "metadata": {},
   "outputs": [
    {
     "ename": "AttributeError",
     "evalue": "'NoneType' object has no attribute 'is_directed'",
     "output_type": "error",
     "traceback": [
      "\u001b[0;31m---------------------------------------------------------------------------\u001b[0m",
      "\u001b[0;31mAttributeError\u001b[0m                            Traceback (most recent call last)",
      "\u001b[0;32m<ipython-input-11-fe0ece90726d>\u001b[0m in \u001b[0;36m<module>\u001b[0;34m()\u001b[0m\n\u001b[1;32m      4\u001b[0m \u001b[0;34m\u001b[0m\u001b[0m\n\u001b[1;32m      5\u001b[0m \u001b[0mG\u001b[0m\u001b[0;34m=\u001b[0m\u001b[0mnx\u001b[0m\u001b[0;34m.\u001b[0m\u001b[0mread_yaml\u001b[0m\u001b[0;34m(\u001b[0m\u001b[0;34m\"hcho_path_files/test_v1.0.3_hcho_3_4_18.yaml\"\u001b[0m\u001b[0;34m)\u001b[0m\u001b[0;34m\u001b[0m\u001b[0m\n\u001b[0;32m----> 6\u001b[0;31m \u001b[0maG\u001b[0m\u001b[0;34m=\u001b[0m\u001b[0mto_agraph\u001b[0m\u001b[0;34m(\u001b[0m\u001b[0mG\u001b[0m\u001b[0;34m)\u001b[0m\u001b[0;34m\u001b[0m\u001b[0m\n\u001b[0m\u001b[1;32m      7\u001b[0m \u001b[0mU\u001b[0m\u001b[0;34m=\u001b[0m\u001b[0mgraphviz\u001b[0m\u001b[0;34m.\u001b[0m\u001b[0mSource\u001b[0m\u001b[0;34m(\u001b[0m\u001b[0maG\u001b[0m\u001b[0;34m,\u001b[0m\u001b[0mfilename\u001b[0m\u001b[0;34m=\u001b[0m\u001b[0;34m'hcho_path_files/hcho_path_3_4_18_yaml'\u001b[0m\u001b[0;34m,\u001b[0m\u001b[0mformat\u001b[0m\u001b[0;34m=\u001b[0m\u001b[0;34m'png'\u001b[0m\u001b[0;34m)\u001b[0m\u001b[0;34m\u001b[0m\u001b[0m\n\u001b[1;32m      8\u001b[0m \u001b[0mU\u001b[0m\u001b[0;34m.\u001b[0m\u001b[0mrender\u001b[0m\u001b[0;34m(\u001b[0m\u001b[0;34m)\u001b[0m\u001b[0;34m\u001b[0m\u001b[0m\n",
      "\u001b[0;32m/home/siddharth/anaconda2/lib/python2.7/site-packages/networkx/drawing/nx_agraph.pyc\u001b[0m in \u001b[0;36mto_agraph\u001b[0;34m(N)\u001b[0m\n\u001b[1;32m    137\u001b[0m         raise ImportError('requires pygraphviz ',\n\u001b[1;32m    138\u001b[0m                           'http://pygraphviz.github.io/')\n\u001b[0;32m--> 139\u001b[0;31m     \u001b[0mdirected\u001b[0m \u001b[0;34m=\u001b[0m \u001b[0mN\u001b[0m\u001b[0;34m.\u001b[0m\u001b[0mis_directed\u001b[0m\u001b[0;34m(\u001b[0m\u001b[0;34m)\u001b[0m\u001b[0;34m\u001b[0m\u001b[0m\n\u001b[0m\u001b[1;32m    140\u001b[0m     \u001b[0mstrict\u001b[0m \u001b[0;34m=\u001b[0m \u001b[0mnx\u001b[0m\u001b[0;34m.\u001b[0m\u001b[0mnumber_of_selfloops\u001b[0m\u001b[0;34m(\u001b[0m\u001b[0mN\u001b[0m\u001b[0;34m)\u001b[0m \u001b[0;34m==\u001b[0m \u001b[0;36m0\u001b[0m \u001b[0;32mand\u001b[0m \u001b[0;32mnot\u001b[0m \u001b[0mN\u001b[0m\u001b[0;34m.\u001b[0m\u001b[0mis_multigraph\u001b[0m\u001b[0;34m(\u001b[0m\u001b[0;34m)\u001b[0m\u001b[0;34m\u001b[0m\u001b[0m\n\u001b[1;32m    141\u001b[0m     \u001b[0mA\u001b[0m \u001b[0;34m=\u001b[0m \u001b[0mpygraphviz\u001b[0m\u001b[0;34m.\u001b[0m\u001b[0mAGraph\u001b[0m\u001b[0;34m(\u001b[0m\u001b[0mname\u001b[0m\u001b[0;34m=\u001b[0m\u001b[0mN\u001b[0m\u001b[0;34m.\u001b[0m\u001b[0mname\u001b[0m\u001b[0;34m,\u001b[0m \u001b[0mstrict\u001b[0m\u001b[0;34m=\u001b[0m\u001b[0mstrict\u001b[0m\u001b[0;34m,\u001b[0m \u001b[0mdirected\u001b[0m\u001b[0;34m=\u001b[0m\u001b[0mdirected\u001b[0m\u001b[0;34m)\u001b[0m\u001b[0;34m\u001b[0m\u001b[0m\n",
      "\u001b[0;31mAttributeError\u001b[0m: 'NoneType' object has no attribute 'is_directed'"
     ]
    }
   ],
   "source": [
    "import networkx as nx\n",
    "import graphviz\n",
    "from networkx.drawing.nx_agraph import to_agraph,graphviz_layout\n",
    "\n",
    "G=nx.read_yaml(\"hcho_path_files/test_v1.0.3_hcho_3_4_18.yaml\")\n",
    "aG=to_agraph(G)\n",
    "U=graphviz.Source(aG,filename='hcho_path_files/hcho_path_3_4_18_yaml',format='png')\n",
    "U.render()"
   ]
  },
  {
   "cell_type": "code",
   "execution_count": 13,
   "metadata": {},
   "outputs": [
    {
     "data": {
      "text/plain": [
       "'hcho_path1_3_4_18.png'"
      ]
     },
     "execution_count": 13,
     "metadata": {},
     "output_type": "execute_result"
    }
   ],
   "source": [
    "import networkx as nx\n",
    "import graphviz\n",
    "from networkx.drawing.nx_agraph import to_agraph,graphviz_layout\n",
    "\n",
    "G=nx.read_adjlist(\"test_v1.0.3.adjlist\",create_using=nx.DiGraph())\n",
    "aG=to_agraph(G)\n",
    "U=graphviz.Source(aG,filename='hcho_path1_3_4_18',format='png')\n",
    "U.render()"
   ]
  },
  {
   "cell_type": "code",
   "execution_count": null,
   "metadata": {},
   "outputs": [],
   "source": []
  }
 ],
 "metadata": {
  "kernelspec": {
   "display_name": "Python 2",
   "language": "python",
   "name": "python2"
  },
  "language_info": {
   "codemirror_mode": {
    "name": "ipython",
    "version": 2
   },
   "file_extension": ".py",
   "mimetype": "text/x-python",
   "name": "python",
   "nbconvert_exporter": "python",
   "pygments_lexer": "ipython2",
   "version": "2.7.15"
  }
 },
 "nbformat": 4,
 "nbformat_minor": 2
}
